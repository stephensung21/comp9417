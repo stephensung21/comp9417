{
 "cells": [
  {
   "cell_type": "code",
   "execution_count": 3,
   "metadata": {},
   "outputs": [
    {
     "name": "stdout",
     "output_type": "stream",
     "text": [
      "Samples per class (training): [ 117  167  258  133  845  183 4734 1673   70  218 1102]\n",
      "Samples per class (testing): [  3  15  13   2  48  14 266  69   3   7  60]\n",
      "Number of documents in train data: 9500\n",
      "Number of documents in test data: 500\n"
     ]
    }
   ],
   "source": [
    "import pickle\n",
    "import numpy as np\n",
    "from sklearn.feature_extraction.text import TfidfVectorizer\n",
    "from sklearn.naive_bayes import MultinomialNB\n",
    "from pprint import pprint\n",
    "from sklearn.model_selection import RandomizedSearchCV\n",
    "from sklearn.model_selection import GridSearchCV\n",
    "from sklearn.metrics import classification_report, confusion_matrix, accuracy_score\n",
    "from sklearn.model_selection import ShuffleSplit\n",
    "import matplotlib.pyplot as plt\n",
    "import seaborn as sns\n",
    "import pandas as pd\n",
    "from sklearn.linear_model import LogisticRegression\n",
    "\n",
    "\n",
    "#TRAINING DATA----------------------------------------------------------------------------------\n",
    "df=pd.read_csv('training.csv')\n",
    "\n",
    "#get rid of commas/punctuation\n",
    "punctuation_signs = list(\"?:!.,;\")\n",
    "df['article_words_parse_1'] = df['article_words']\n",
    "\n",
    "for punct_sign in punctuation_signs:\n",
    "    df['article_words_parse_1'] = df['article_words_parse_1'].str.replace(punct_sign, ' ')\n",
    "    \n",
    "#all lower case\n",
    "df['article_words_parse_2'] = df['article_words_parse_1'].str.lower()\n",
    "\n",
    "#NO STEMMING NO LEMMISATION, NO STOP WORDS\n",
    "\n",
    "#Category Numbers\n",
    "category_codes = {\n",
    "    'ARTS CULTURE ENTERTAINMENT': 0,\n",
    "    'BIOGRAPHIES PERSONALITIES PEOPLE': 1,\n",
    "    'DEFENCE': 2,\n",
    "    'DOMESTIC MARKETS': 3,\n",
    "    'FOREX MARKETS': 4,\n",
    "    'HEALTH': 5,\n",
    "    'IRRELEVANT': 6,\n",
    "    'MONEY MARKETS': 7,\n",
    "    'SCIENCE AND TECHNOLOGY': 8,\n",
    "    'SHARE LISTINGS': 9,\n",
    "    'SPORTS': 10\n",
    "}\n",
    "\n",
    "# Category mapping\n",
    "df['Category_Code'] = df['topic']\n",
    "df = df.replace({'Category_Code':category_codes})\n",
    "\n",
    "X_train=df['article_words_parse_2']\n",
    "y_train=df['Category_Code']\n",
    "\n",
    "#TESTING DATA--------------------------------------------------------------------------------\n",
    "df_t=pd.read_csv('test.csv')\n",
    "\n",
    "#get rid of commas/punctuation\n",
    "punctuation_signs = list(\"?:!.,;\")\n",
    "df_t['article_words_parse_1'] = df_t['article_words']\n",
    "\n",
    "for punct_sign in punctuation_signs:\n",
    "    df_t['article_words_parse_1'] = df_t['article_words_parse_1'].str.replace(punct_sign, ' ')\n",
    "    \n",
    "#all lower case\n",
    "df_t['article_words_parse_2'] = df_t['article_words_parse_1'].str.lower()\n",
    "\n",
    "#NO STEMMING NO LEMMISATION, NO STOP WORDS\n",
    "\n",
    "#Category Numbers\n",
    "category_codes = {\n",
    "    'ARTS CULTURE ENTERTAINMENT': 0,\n",
    "    'BIOGRAPHIES PERSONALITIES PEOPLE': 1,\n",
    "    'DEFENCE': 2,\n",
    "    'DOMESTIC MARKETS': 3,\n",
    "    'FOREX MARKETS': 4,\n",
    "    'HEALTH': 5,\n",
    "    'IRRELEVANT': 6,\n",
    "    'MONEY MARKETS': 7,\n",
    "    'SCIENCE AND TECHNOLOGY': 8,\n",
    "    'SHARE LISTINGS': 9,\n",
    "    'SPORTS': 10\n",
    "}\n",
    "\n",
    "# Category mapping\n",
    "df_t['Category_Code'] = df_t['topic']\n",
    "df_t = df_t.replace({'Category_Code':category_codes})\n",
    "\n",
    "X_test=df_t['article_words_parse_2']\n",
    "y_test=df_t['Category_Code']\n",
    "\n",
    "#count how many of each topic\n",
    "print(\"Samples per class (training): {}\".format(np.bincount(y_train)))\n",
    "print(\"Samples per class (testing): {}\".format(np.bincount(y_test)))\n",
    "\n",
    "print(\"Number of documents in train data: {}\".format(len(X_train)))\n",
    "print(\"Number of documents in test data: {}\".format(len(X_test)))"
   ]
  },
  {
   "cell_type": "code",
   "execution_count": 5,
   "metadata": {},
   "outputs": [
    {
     "name": "stdout",
     "output_type": "stream",
     "text": [
      "(9500, 4000)\n",
      "(500, 4000)\n"
     ]
    }
   ],
   "source": [
    "from sklearn.feature_extraction.text import TfidfVectorizer\n",
    "ngram_range = (1,2)\n",
    "min_df = 10\n",
    "max_df = 1.\n",
    "max_features = 4000\n",
    "\n",
    "tfidf = TfidfVectorizer(encoding='utf-8',\n",
    "                        stop_words=None,\n",
    "                        lowercase=False,\n",
    "                        max_df=max_df,\n",
    "                        min_df=min_df,\n",
    "                        max_features=max_features,\n",
    "                        norm='l2',\n",
    "                        sublinear_tf=True)\n",
    "                        \n",
    "features_train = tfidf.fit_transform(X_train)\n",
    "labels_train = y_train\n",
    "print(features_train.shape)\n",
    "\n",
    "features_test = tfidf.transform(X_test)\n",
    "labels_test = y_test\n",
    "print(features_test.shape)"
   ]
  },
  {
   "cell_type": "code",
   "execution_count": 7,
   "metadata": {},
   "outputs": [
    {
     "name": "stdout",
     "output_type": "stream",
     "text": [
      "Fitting 3 folds for each of 10 candidates, totalling 30 fits\n"
     ]
    },
    {
     "name": "stderr",
     "output_type": "stream",
     "text": [
      "[Parallel(n_jobs=1)]: Using backend SequentialBackend with 1 concurrent workers.\n",
      "[Parallel(n_jobs=1)]: Done  30 out of  30 | elapsed:   35.6s finished\n"
     ]
    },
    {
     "data": {
      "text/plain": [
       "GridSearchCV(cv=ShuffleSplit(n_splits=3, random_state=8, test_size=0.33, train_size=None),\n",
       "             error_score='raise-deprecating',\n",
       "             estimator=LogisticRegression(C=1.0, class_weight=None, dual=False,\n",
       "                                          fit_intercept=True,\n",
       "                                          intercept_scaling=1, l1_ratio=None,\n",
       "                                          max_iter=100, multi_class='warn',\n",
       "                                          n_jobs=None, penalty='l2',\n",
       "                                          random_state=8, solver='warn',\n",
       "                                          tol=0.0001, verbose=0,\n",
       "                                          warm_st...\n",
       "             param_grid={'C': [0.6, 0.6444444444444444, 0.6888888888888889,\n",
       "                               0.7333333333333333, 0.7777777777777778,\n",
       "                               0.8222222222222222, 0.8666666666666667,\n",
       "                               0.9111111111111111, 0.9555555555555555, 1.0],\n",
       "                         'class_weight': [None], 'multi_class': ['multinomial'],\n",
       "                         'penalty': ['l2'], 'solver': ['saga']},\n",
       "             pre_dispatch='2*n_jobs', refit=True, return_train_score=False,\n",
       "             scoring='accuracy', verbose=1)"
      ]
     },
     "execution_count": 7,
     "metadata": {},
     "output_type": "execute_result"
    }
   ],
   "source": [
    "# Create the parameter grid based on the results of random search \n",
    "C = [float(x) for x in np.linspace(start = 0.6, stop = 1, num = 10)]\n",
    "multi_class = ['multinomial']\n",
    "solver = ['saga']\n",
    "class_weight = [None]\n",
    "penalty = ['l2']\n",
    "\n",
    "param_grid = {'C': C,\n",
    "               'multi_class': multi_class,\n",
    "               'solver': solver,\n",
    "               'class_weight': class_weight,\n",
    "               'penalty': penalty}\n",
    "\n",
    "# Create a base model\n",
    "lrc = LogisticRegression(random_state=8)\n",
    "\n",
    "# Manually create the splits in CV in order to be able to fix a random_state (GridSearchCV doesn't have that argument)\n",
    "cv_sets = ShuffleSplit(n_splits = 3, test_size = .33, random_state = 8)\n",
    "\n",
    "# Instantiate the grid search model\n",
    "grid_search = GridSearchCV(estimator=lrc, \n",
    "                           param_grid=param_grid,\n",
    "                           scoring='accuracy',\n",
    "                           cv=cv_sets,\n",
    "                           verbose=1)\n",
    "\n",
    "# Fit the grid search to the data\n",
    "grid_search.fit(features_train, labels_train)"
   ]
  },
  {
   "cell_type": "code",
   "execution_count": 8,
   "metadata": {},
   "outputs": [
    {
     "name": "stdout",
     "output_type": "stream",
     "text": [
      "The best hyperparameters from Grid Search are:\n",
      "{'C': 1.0, 'class_weight': None, 'multi_class': 'multinomial', 'penalty': 'l2', 'solver': 'saga'}\n",
      "\n",
      "The mean accuracy of a model with these hyperparameters is:\n",
      "0.759170653907496\n"
     ]
    }
   ],
   "source": [
    "print(\"The best hyperparameters from Grid Search are:\")\n",
    "print(grid_search.best_params_)\n",
    "print(\"\")\n",
    "print(\"The mean accuracy of a model with these hyperparameters is:\")\n",
    "print(grid_search.best_score_)"
   ]
  },
  {
   "cell_type": "code",
   "execution_count": 9,
   "metadata": {},
   "outputs": [
    {
     "data": {
      "text/plain": [
       "LogisticRegression(C=1.0, class_weight=None, dual=False, fit_intercept=True,\n",
       "                   intercept_scaling=1, l1_ratio=None, max_iter=100,\n",
       "                   multi_class='multinomial', n_jobs=None, penalty='l2',\n",
       "                   random_state=8, solver='saga', tol=0.0001, verbose=0,\n",
       "                   warm_start=False)"
      ]
     },
     "execution_count": 9,
     "metadata": {},
     "output_type": "execute_result"
    }
   ],
   "source": [
    "best_lrc = grid_search.best_estimator_\n",
    "best_lrc"
   ]
  },
  {
   "cell_type": "code",
   "execution_count": 12,
   "metadata": {},
   "outputs": [
    {
     "name": "stdout",
     "output_type": "stream",
     "text": [
      "The training accuracy is: \n",
      "0.8483157894736842\n",
      "The test accuracy is: \n",
      "0.768\n",
      "Classification report\n",
      "              precision    recall  f1-score   support\n",
      "\n",
      "           0       0.33      0.33      0.33         3\n",
      "           1       1.00      0.13      0.24        15\n",
      "           2       1.00      0.31      0.47        13\n",
      "           3       0.00      0.00      0.00         2\n",
      "           4       0.56      0.38      0.45        48\n",
      "           5       0.86      0.43      0.57        14\n",
      "           6       0.82      0.93      0.87       266\n",
      "           7       0.55      0.67      0.60        69\n",
      "           8       0.00      0.00      0.00         3\n",
      "           9       0.50      0.29      0.36         7\n",
      "          10       0.95      0.97      0.96        60\n",
      "\n",
      "    accuracy                           0.77       500\n",
      "   macro avg       0.60      0.40      0.44       500\n",
      "weighted avg       0.77      0.77      0.75       500\n",
      "\n"
     ]
    },
    {
     "name": "stderr",
     "output_type": "stream",
     "text": [
      "C:\\Users\\Stephen Sung\\Anaconda3\\lib\\site-packages\\sklearn\\metrics\\classification.py:1437: UndefinedMetricWarning: Precision and F-score are ill-defined and being set to 0.0 in labels with no predicted samples.\n",
      "  'precision', 'predicted', average, warn_for)\n"
     ]
    }
   ],
   "source": [
    "best_lrc.fit(features_train, labels_train)\n",
    "\n",
    "lrc_pred = best_lrc.predict(features_test)\n",
    "# Training accuracy\n",
    "print(\"The training accuracy is: \")\n",
    "print(accuracy_score(labels_train, best_lrc.predict(features_train)))\n",
    "\n",
    "# Test accuracy\n",
    "print(\"The test accuracy is: \")\n",
    "print(accuracy_score(labels_test, lrc_pred))\n",
    "\n",
    "# Classification report\n",
    "print(\"Classification report\")\n",
    "print(classification_report(labels_test,lrc_pred))"
   ]
  },
  {
   "cell_type": "code",
   "execution_count": 13,
   "metadata": {},
   "outputs": [
    {
     "data": {
      "image/png": "[encoded data removed]",
      "text/plain": [
       "<Figure size 921.6x432 with 2 Axes>"
      ]
     },
     "metadata": {
      "needs_background": "light"
     },
     "output_type": "display_data"
    }
   ],
   "source": [
    "aux_df = df[['topic', 'Category_Code']].drop_duplicates().sort_values('Category_Code')\n",
    "conf_matrix = confusion_matrix(labels_test, lrc_pred)\n",
    "plt.figure(figsize=(12.8,6))\n",
    "sns.heatmap(conf_matrix, \n",
    "            annot=True,\n",
    "            xticklabels=aux_df['topic'].values, \n",
    "            yticklabels=aux_df['topic'].values,\n",
    "            cmap=\"Blues\")\n",
    "plt.ylabel('Predicted')\n",
    "plt.xlabel('Actual')\n",
    "plt.title('Confusion matrix')\n",
    "plt.show()"
   ]
  }
 ],
 "metadata": {
  "kernelspec": {
   "display_name": "Python 3",
   "language": "python",
   "name": "python3"
  },
  "language_info": {
   "codemirror_mode": {
    "name": "ipython",
    "version": 3
   },
   "file_extension": ".py",
   "mimetype": "text/x-python",
   "name": "python",
   "nbconvert_exporter": "python",
   "pygments_lexer": "ipython3",
   "version": "3.7.4"
  }
 },
 "nbformat": 4,
 "nbformat_minor": 2
}
