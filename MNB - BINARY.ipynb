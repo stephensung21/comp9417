{
 "cells": [
  {
   "cell_type": "code",
   "execution_count": 289,
   "metadata": {},
   "outputs": [],
   "source": [
    "import pickle\n",
    "import numpy as np\n",
    "from sklearn.feature_extraction.text import TfidfVectorizer\n",
    "from sklearn.feature_extraction.text import CountVectorizer\n",
    "from sklearn.naive_bayes import MultinomialNB\n",
    "from pprint import pprint\n",
    "from sklearn.model_selection import RandomizedSearchCV\n",
    "from sklearn.model_selection import GridSearchCV\n",
    "from sklearn.metrics import classification_report, confusion_matrix, accuracy_score\n",
    "from sklearn.model_selection import ShuffleSplit\n",
    "import matplotlib.pyplot as plt\n",
    "import seaborn as sns\n",
    "import pandas as pd\n",
    "from sklearn.linear_model import LogisticRegression\n",
    "from sklearn.model_selection import train_test_split"
   ]
  },
  {
   "cell_type": "code",
   "execution_count": 290,
   "metadata": {},
   "outputs": [
    {
     "name": "stdout",
     "output_type": "stream",
     "text": [
      "      article_number          topic  \\\n",
      "0                  1  FOREX MARKETS   \n",
      "1                  2  MONEY MARKETS   \n",
      "2                  3         SPORTS   \n",
      "3                  4  FOREX MARKETS   \n",
      "4                  5     IRRELEVANT   \n",
      "...              ...            ...   \n",
      "9495            9496        DEFENCE   \n",
      "9496            9497     IRRELEVANT   \n",
      "9497            9498  FOREX MARKETS   \n",
      "9498            9499     IRRELEVANT   \n",
      "9499            9500  FOREX MARKETS   \n",
      "\n",
      "                                  article_words_parse_2  Category_Code  \n",
      "0     open absent cent cent cent stock inflow rate k...              4  \n",
      "1     morn stead end end day day day patch patch pat...              7  \n",
      "2     socc socc world world recent law fifa fifa fif...             10  \n",
      "3     open forint forint forint forint cent cent ste...              4  \n",
      "4     morn complet weekend minut minut minut arrow d...              6  \n",
      "...                                                 ...            ...  \n",
      "9495  cloud provid hope centur erupt rule recent sou...              2  \n",
      "9496  stock stock stock declin access week worry blo...              6  \n",
      "9497  rate million million belarus dollar dollar nov...              4  \n",
      "9498  flow bullet bullet bullet bullet bullet bullet...              6  \n",
      "9499  helsingin mechan follow sanomat limit market r...              4  \n",
      "\n",
      "[9500 rows x 4 columns]\n"
     ]
    }
   ],
   "source": [
    "df=pd.read_csv('training.csv')\n",
    "#make all strings\n",
    "df['article_words']=df['article_words'].apply(str)\n",
    "\n",
    "#get rid of commas/punctuation\n",
    "punctuation_signs = list(\"?:!.,;\")\n",
    "df['article_words_parse_1'] = df['article_words']\n",
    "\n",
    "for punct_sign in punctuation_signs:\n",
    "    df['article_words_parse_1'] = df['article_words_parse_1'].str.replace(punct_sign, ' ')\n",
    "    \n",
    "#all lower case\n",
    "df['article_words_parse_2'] = df['article_words_parse_1'].str.lower()\n",
    "\n",
    "#NO STEMMING NO LEMMISATION, NO STOP WORDS\n",
    "\n",
    "#Category Numbers\n",
    "category_codes = {\n",
    "    'ARTS CULTURE ENTERTAINMENT': 0,\n",
    "    'BIOGRAPHIES PERSONALITIES PEOPLE': 1,\n",
    "    'DEFENCE': 2,\n",
    "    'DOMESTIC MARKETS': 3,\n",
    "    'FOREX MARKETS': 4,\n",
    "    'HEALTH': 5,\n",
    "    'IRRELEVANT': 6,\n",
    "    'MONEY MARKETS': 7,\n",
    "    'SCIENCE AND TECHNOLOGY': 8,\n",
    "    'SHARE LISTINGS': 9,\n",
    "    'SPORTS': 10\n",
    "}\n",
    "\n",
    "# Category mapping\n",
    "df['Category_Code'] = df['topic']\n",
    "df = df.replace({'Category_Code':category_codes})\n",
    "\n",
    "\n",
    "df = df.drop([\"article_words\", \"article_words_parse_1\"], axis=1)\n",
    "\n",
    "\n",
    "print(df)"
   ]
  },
  {
   "cell_type": "code",
   "execution_count": 291,
   "metadata": {},
   "outputs": [
    {
     "data": {
      "image/png": "[encoded data removed]",
      "text/plain": [
       "<Figure size 576x432 with 1 Axes>"
      ]
     },
     "metadata": {
      "needs_background": "light"
     },
     "output_type": "display_data"
    }
   ],
   "source": [
    "#Data Analysis\n",
    "import matplotlib.pyplot as plt\n",
    "fig = plt.figure(figsize=(8,6))\n",
    "df.groupby('topic').article_words_parse_2.count().plot.bar(ylim=0)\n",
    "plt.show()"
   ]
  },
  {
   "cell_type": "code",
   "execution_count": 302,
   "metadata": {},
   "outputs": [
    {
     "name": "stdout",
     "output_type": "stream",
     "text": [
      "5525    fitch fitch artem correct correct group munici...\n",
      "8594    flow vanhoos research research supercold nasa ...\n",
      "2123    flow flow flow purchas purchas purchas purchas...\n",
      "7647    hear investig investig cover cover seek hope c...\n",
      "23      regist cent ensur half half half half half sto...\n",
      "                              ...                        \n",
      "1955    stead stead stead missor gilt top top moderat ...\n",
      "6209    option cent derivat daily daily cross local ba...\n",
      "3247    jerry issu heard jasinowsk jasinowsk assoc quo...\n",
      "7518    figur rate fall issu aug labor econom norway n...\n",
      "7810    research research research cent fujitsu fujits...\n",
      "Name: article_words_parse_2, Length: 2375, dtype: object\n",
      "5525    0\n",
      "8594    1\n",
      "2123    1\n",
      "7647    1\n",
      "23      0\n",
      "       ..\n",
      "1955    0\n",
      "6209    1\n",
      "3247    1\n",
      "7518    0\n",
      "7810    0\n",
      "Name: binary_code, Length: 2375, dtype: int64\n",
      "5525    5526\n",
      "8594    8595\n",
      "2123    2124\n",
      "7647    7648\n",
      "23        24\n",
      "        ... \n",
      "1955    1956\n",
      "6209    6210\n",
      "3247    3248\n",
      "7518    7519\n",
      "7810    7811\n",
      "Name: article_number, Length: 2375, dtype: int64\n"
     ]
    }
   ],
   "source": [
    "#Try to get rid of Irrelevant\n",
    "\n",
    "# 0=Irrelevant, 1=Relevant\n",
    "new_code = {\n",
    "    'ARTS CULTURE ENTERTAINMENT': 1,\n",
    "    'BIOGRAPHIES PERSONALITIES PEOPLE': 1,\n",
    "    'DEFENCE': 1,\n",
    "    'DOMESTIC MARKETS': 1,\n",
    "    'FOREX MARKETS': 1,\n",
    "    'HEALTH': 1,\n",
    "    'IRRELEVANT': 0,\n",
    "    'MONEY MARKETS': 1,\n",
    "    'SCIENCE AND TECHNOLOGY': 1,\n",
    "    'SHARE LISTINGS': 1,\n",
    "    'SPORTS': 1\n",
    "}\n",
    "\n",
    "new_name = {\n",
    "    'ARTS CULTURE ENTERTAINMENT': 'RELEVANT',\n",
    "    'BIOGRAPHIES PERSONALITIES PEOPLE': 'RELEVANT',\n",
    "    'DEFENCE': 'RELEVANT',\n",
    "    'DOMESTIC MARKETS': 'RELEVANT',\n",
    "    'FOREX MARKETS': 'RELEVANT',\n",
    "    'HEALTH': 'RELEVANT',\n",
    "    'IRRELEVANT': 'IRRELEVANT1',\n",
    "    'MONEY MARKETS': 'RELEVANT',\n",
    "    'SCIENCE AND TECHNOLOGY': 'RELEVANT',\n",
    "    'SHARE LISTINGS': 'RELEVANT',\n",
    "    'SPORTS': 'RELEVANT'\n",
    "}\n",
    "\n",
    "# Category mapping\n",
    "df['binary_code'] = df['topic']\n",
    "df['binary_topic']=df['topic']\n",
    "df = df.replace({'binary_code':new_code})\n",
    "df = df.replace({'binary_topic':new_name})\n",
    "\n",
    "X_train, X_test, y_train, y_test, topic_train, topic_test, category_train, category_test, article_train, article_test= train_test_split(df['article_words_parse_2'], \n",
    "                                                    df['binary_code'],df['topic'], df['Category_Code'], df['article_number'],\n",
    "                                                    random_state=8)\n",
    "\n",
    "\n",
    "print(X_test)\n",
    "print(y_test)"
   ]
  },
  {
   "cell_type": "code",
   "execution_count": 295,
   "metadata": {},
   "outputs": [
    {
     "name": "stdout",
     "output_type": "stream",
     "text": [
      "(7125, 6000)\n",
      "(2375, 6000)\n"
     ]
    }
   ],
   "source": [
    "#TFIDF\n",
    "# Parameter election\n",
    "ngram_range = (1,2)\n",
    "min_df = 10\n",
    "max_df = 1.\n",
    "max_features = 6000\n",
    "\n",
    "tfidf = TfidfVectorizer(encoding='utf-8',\n",
    "                        ngram_range=ngram_range,\n",
    "                        stop_words=None,\n",
    "                        lowercase=False,\n",
    "                        max_df=max_df,\n",
    "                        min_df=min_df,\n",
    "                        max_features=max_features,\n",
    "                        norm='l2',\n",
    "                        sublinear_tf=True)\n",
    "                        \n",
    "features_train = tfidf.fit_transform(X_train).toarray()\n",
    "labels_train = y_train\n",
    "print(features_train.shape)\n",
    "\n",
    "features_test = tfidf.transform(X_test).toarray()\n",
    "labels_test = y_test\n",
    "print(features_test.shape)\n"
   ]
  },
  {
   "cell_type": "code",
   "execution_count": 296,
   "metadata": {},
   "outputs": [
    {
     "name": "stdout",
     "output_type": "stream",
     "text": [
      "The training accuracy is: \n",
      "0.8526315789473684\n",
      "The test accuracy is: \n",
      "0.8425263157894737\n",
      "Classification report\n",
      "              precision    recall  f1-score   support\n",
      "\n",
      "           0       0.82      0.87      0.85      1191\n",
      "           1       0.87      0.81      0.84      1184\n",
      "\n",
      "    accuracy                           0.84      2375\n",
      "   macro avg       0.84      0.84      0.84      2375\n",
      "weighted avg       0.84      0.84      0.84      2375\n",
      "\n"
     ]
    },
    {
     "data": {
      "image/png": "[encoded data removed]",
      "text/plain": [
       "<Figure size 432x216 with 2 Axes>"
      ]
     },
     "metadata": {
      "needs_background": "light"
     },
     "output_type": "display_data"
    }
   ],
   "source": [
    "from sklearn.naive_bayes import MultinomialNB\n",
    "#MNB\n",
    "mnbc = MultinomialNB()\n",
    "\n",
    "#clf = mnbc.fit(features_train, labels_train)\n",
    "mnbc.fit(features_train, labels_train)\n",
    "mnbc_pred = mnbc.predict(features_test)\n",
    "\n",
    "print(\"The training accuracy is: \")\n",
    "print(accuracy_score(labels_train, mnbc.predict(features_train)))\n",
    "\n",
    "print(\"The test accuracy is: \")\n",
    "print(accuracy_score(labels_test, mnbc_pred))\n",
    "\n",
    "print(\"Classification report\")\n",
    "print(classification_report(labels_test,mnbc_pred))\n",
    "\n",
    "aux_df = df[['binary_topic', 'binary_code']].drop_duplicates().sort_values('binary_code')\n",
    "conf_matrix = confusion_matrix(labels_test, mnbc_pred)\n",
    "plt.figure(figsize=(6,3))\n",
    "sns.heatmap(conf_matrix, \n",
    "            annot=True,\n",
    "            xticklabels=aux_df['binary_code'].values, \n",
    "            yticklabels=aux_df['binary_code'].values,\n",
    "            cmap=\"Blues\")\n",
    "plt.ylabel('Predicted')\n",
    "plt.xlabel('Actual')\n",
    "plt.title('Confusion matrix')\n",
    "plt.show()"
   ]
  },
  {
   "cell_type": "code",
   "execution_count": 304,
   "metadata": {},
   "outputs": [
    {
     "name": "stdout",
     "output_type": "stream",
     "text": [
      "     actual_label  prediction  \\\n",
      "0      IRRELEVANT  IRRELEVANT   \n",
      "1        RELEVANT  IRRELEVANT   \n",
      "2        RELEVANT  IRRELEVANT   \n",
      "3        RELEVANT  IRRELEVANT   \n",
      "4      IRRELEVANT  IRRELEVANT   \n",
      "...           ...         ...   \n",
      "2370   IRRELEVANT  IRRELEVANT   \n",
      "2371     RELEVANT    RELEVANT   \n",
      "2372     RELEVANT    RELEVANT   \n",
      "2373   IRRELEVANT  IRRELEVANT   \n",
      "2374   IRRELEVANT  IRRELEVANT   \n",
      "\n",
      "                                                  words  \\\n",
      "0     fitch fitch artem correct correct group munici...   \n",
      "1     flow vanhoos research research supercold nasa ...   \n",
      "2     flow flow flow purchas purchas purchas purchas...   \n",
      "3     hear investig investig cover cover seek hope c...   \n",
      "4     regist cent ensur half half half half half sto...   \n",
      "...                                                 ...   \n",
      "2370  stead stead stead missor gilt top top moderat ...   \n",
      "2371  option cent derivat daily daily cross local ba...   \n",
      "2372  jerry issu heard jasinowsk jasinowsk assoc quo...   \n",
      "2373  figur rate fall issu aug labor econom norway n...   \n",
      "2374  research research research cent fujitsu fujits...   \n",
      "\n",
      "                       topic  category  article  \n",
      "0                 IRRELEVANT         6     5526  \n",
      "1     SCIENCE AND TECHNOLOGY         8     8595  \n",
      "2              MONEY MARKETS         7     2124  \n",
      "3                    DEFENCE         2     7648  \n",
      "4                 IRRELEVANT         6       24  \n",
      "...                      ...       ...      ...  \n",
      "2370              IRRELEVANT         6     1956  \n",
      "2371           MONEY MARKETS         7     6210  \n",
      "2372           FOREX MARKETS         4     3248  \n",
      "2373              IRRELEVANT         6     7519  \n",
      "2374              IRRELEVANT         6     7811  \n",
      "\n",
      "[2375 rows x 6 columns]\n"
     ]
    },
    {
     "data": {
      "text/plain": [
       "array([ 6,  8,  7,  2,  4,  9, 10,  1,  3,  5,  0], dtype=int64)"
      ]
     },
     "execution_count": 304,
     "metadata": {},
     "output_type": "execute_result"
    }
   ],
   "source": [
    "#https://towardsdatascience.com/naive-bayes-document-classification-in-python-e33ff50f937e\n",
    "testing_predictions = []\n",
    "for i in range(len(X_test)):\n",
    "    if mnbc_pred[i] == 1:\n",
    "        testing_predictions.append('RELEVANT')\n",
    "    else:\n",
    "        testing_predictions.append('IRRELEVANT')\n",
    "check_df = pd.DataFrame({'actual_label': list(y_test), 'prediction': testing_predictions, 'words':list(X_test), 'topic':list(topic_test), 'category':list(category_test), 'article':list(article_test)})\n",
    "check_df.actual_label.replace(to_replace=0, value='IRRELEVANT', inplace=True)\n",
    "check_df.actual_label.replace(to_replace=1, value='RELEVANT', inplace=True)\n",
    "\n",
    "print(check_df)\n",
    "\n",
    "check_df.category.unique()\n",
    "\n"
   ]
  },
  {
   "cell_type": "code",
   "execution_count": 308,
   "metadata": {},
   "outputs": [
    {
     "data": {
      "image/png": "[encoded data removed]",
      "text/plain": [
       "<Figure size 576x432 with 1 Axes>"
      ]
     },
     "metadata": {
      "needs_background": "light"
     },
     "output_type": "display_data"
    },
    {
     "name": "stdout",
     "output_type": "stream",
     "text": [
      "0        4\n",
      "1        7\n",
      "2       10\n",
      "3        4\n",
      "5        9\n",
      "        ..\n",
      "9491     1\n",
      "9492     7\n",
      "9495     2\n",
      "9497     4\n",
      "9499     4\n",
      "Name: Category_Code, Length: 4766, dtype: int64\n",
      "9       4\n",
      "10      6\n",
      "15      7\n",
      "20      7\n",
      "22      6\n",
      "       ..\n",
      "2363    4\n",
      "2366    7\n",
      "2367    6\n",
      "2371    7\n",
      "2372    4\n",
      "Name: category, Length: 1108, dtype: int64\n",
      "(4766, 6000)\n",
      "(1108, 6000)\n"
     ]
    }
   ],
   "source": [
    "#THIS IS NOW OUR NEW TEST SET WITH NO IRRELEVANT FILES\n",
    "check_df = check_df[check_df.prediction != 'IRRELEVANT']\n",
    "\n",
    "\n",
    "#Data Analysis\n",
    "import matplotlib.pyplot as plt\n",
    "fig = plt.figure(figsize=(8,6))\n",
    "check_df.groupby('topic').words.count().plot.bar(ylim=0)\n",
    "plt.show()\n",
    "\n",
    "#print(check_df) #1108\n",
    "\n",
    "#get the original dataset and remove all irrelevant articles\n",
    "new_df=df\n",
    "new_df = new_df[new_df.topic != 'IRRELEVANT']\n",
    "#print(new_df) #4766\n",
    "\n",
    "X_train=new_df['article_words_parse_2']\n",
    "X_test=check_df['words']\n",
    "y_train=new_df['Category_Code']\n",
    "y_test=check_df['category']\n",
    "article_test=check_df['article']\n",
    "\n",
    "print(y_train)\n",
    "print(y_test)\n",
    "\n",
    "features_train = tfidf.fit_transform(X_train).toarray()\n",
    "labels_train = y_train\n",
    "print(features_train.shape)\n",
    "\n",
    "features_test = tfidf.transform(X_test).toarray()\n",
    "labels_test = y_test\n",
    "print(features_test.shape)\n"
   ]
  },
  {
   "cell_type": "code",
   "execution_count": 309,
   "metadata": {},
   "outputs": [
    {
     "name": "stdout",
     "output_type": "stream",
     "text": [
      "The training accuracy is: \n",
      "0.7956357532522031\n",
      "The test accuracy is: \n",
      "0.6787003610108303\n",
      "Classification report\n",
      "              precision    recall  f1-score   support\n",
      "\n",
      "           0       1.00      0.39      0.56        18\n",
      "           1       0.62      0.73      0.67        22\n",
      "           2       0.46      0.93      0.62        14\n",
      "           3       1.00      1.00      1.00         1\n",
      "           4       0.63      0.42      0.50       231\n",
      "           5       0.46      0.60      0.52        10\n",
      "           6       0.00      0.00      0.00       149\n",
      "           7       0.58      0.89      0.70       366\n",
      "           8       1.00      0.46      0.63        13\n",
      "           9       1.00      0.75      0.86         8\n",
      "          10       0.89      1.00      0.94       276\n",
      "\n",
      "    accuracy                           0.68      1108\n",
      "   macro avg       0.69      0.65      0.64      1108\n",
      "weighted avg       0.60      0.68      0.62      1108\n",
      "\n"
     ]
    },
    {
     "name": "stderr",
     "output_type": "stream",
     "text": [
      "C:\\Users\\Stephen Sung\\Anaconda3\\lib\\site-packages\\sklearn\\metrics\\classification.py:1437: UndefinedMetricWarning: Precision and F-score are ill-defined and being set to 0.0 in labels with no predicted samples.\n",
      "  'precision', 'predicted', average, warn_for)\n"
     ]
    }
   ],
   "source": [
    "#MNB\n",
    "clf = MultinomialNB()\n",
    "clf\n",
    "\n",
    "clf.fit(features_train, labels_train)\n",
    "clf_pred = clf.predict(features_test)\n",
    "\n",
    "print(\"The training accuracy is: \")\n",
    "print(accuracy_score(labels_train, clf.predict(features_train)))\n",
    "\n",
    "print(\"The test accuracy is: \")\n",
    "print(accuracy_score(labels_test, clf_pred))\n",
    "\n",
    "print(\"Classification report\")\n",
    "print(classification_report(labels_test,clf_pred))\n"
   ]
  },
  {
   "cell_type": "code",
   "execution_count": 300,
   "metadata": {},
   "outputs": [
    {
     "data": {
      "image/png": "[encoded data removed]",
      "text/plain": [
       "<Figure size 921.6x432 with 2 Axes>"
      ]
     },
     "metadata": {
      "needs_background": "light"
     },
     "output_type": "display_data"
    }
   ],
   "source": [
    "aux_df2 = new_df[['topic', 'Category_Code']].drop_duplicates().sort_values('Category_Code')\n",
    "conf_matrix2 = confusion_matrix(labels_test, clf_pred)\n",
    "plt.figure(figsize=(12.8,6))\n",
    "sns.heatmap(conf_matrix2, \n",
    "            annot=True,\n",
    "            xticklabels=aux_df2['topic'].values, \n",
    "            yticklabels=aux_df2['topic'].values,\n",
    "            cmap=\"Blues\")\n",
    "plt.ylabel('Predicted')\n",
    "plt.xlabel('Actual')\n",
    "plt.title('Confusion matrix')\n",
    "plt.show()\n"
   ]
  },
  {
   "cell_type": "code",
   "execution_count": 310,
   "metadata": {},
   "outputs": [
    {
     "name": "stdout",
     "output_type": "stream",
     "text": [
      "       actual_label                        prediction  article\n",
      "0     FOREX MARKETS                     FOREX MARKETS     4348\n",
      "1        IRRELEVANT  BIOGRAPHIES PERSONALITIES PEOPLE     6929\n",
      "2     MONEY MARKETS                     FOREX MARKETS     5331\n",
      "3     MONEY MARKETS                     MONEY MARKETS     3755\n",
      "4        IRRELEVANT                     MONEY MARKETS     2853\n",
      "...             ...                               ...      ...\n",
      "1103  FOREX MARKETS                     MONEY MARKETS     3545\n",
      "1104  MONEY MARKETS                     MONEY MARKETS      197\n",
      "1105     IRRELEVANT                           DEFENCE      721\n",
      "1106  MONEY MARKETS                     MONEY MARKETS     6210\n",
      "1107  FOREX MARKETS                     FOREX MARKETS     3248\n",
      "\n",
      "[1108 rows x 3 columns]\n"
     ]
    }
   ],
   "source": [
    "testing_predictions1 = []\n",
    "for i in range(len(X_test)):\n",
    "    if clf_pred[i] == 0:\n",
    "        testing_predictions1.append('ARTS CULTURE ENTERTAINMENT')\n",
    "    elif clf_pred[i] == 1:\n",
    "        testing_predictions1.append('BIOGRAPHIES PERSONALITIES PEOPLE')\n",
    "    elif clf_pred[i] == 2:\n",
    "        testing_predictions1.append('DEFENCE')\n",
    "    elif clf_pred[i] == 3:\n",
    "        testing_predictions1.append('DOMESTIC MARKETS')\n",
    "    elif clf_pred[i] == 4:\n",
    "        testing_predictions1.append('FOREX MARKETS')\n",
    "    elif clf_pred[i] == 5:\n",
    "        testing_predictions1.append('HEALTH')\n",
    "    elif clf_pred[i] == 6:\n",
    "        testing_predictions1.append('IRRELEVANT')\n",
    "    elif clf_pred[i] == 7:\n",
    "        testing_predictions1.append('MONEY MARKETS')\n",
    "    elif clf_pred[i] == 8:\n",
    "        testing_predictions1.append('SCIENCE AND TECHNOLOGY')\n",
    "    elif clf_pred[i] == 9:\n",
    "        testing_predictions1.append('SHARE LISTINGS')\n",
    "    elif clf_pred[i] == 10:\n",
    "        testing_predictions1.append('SPORTS')\n",
    "    else:\n",
    "        testing_predictions1.append('ERROR')\n",
    "check_df1 = pd.DataFrame({'actual_label': list(y_test), 'prediction': testing_predictions1, 'article': list(article_test)})\n",
    "check_df1.actual_label.replace(to_replace=0, value='ARTS CULTURE ENTERTAINMENT', inplace=True)\n",
    "check_df1.actual_label.replace(to_replace=1, value='BIOGRAPHIES PERSONALITIES PEOPLE', inplace=True)\n",
    "check_df1.actual_label.replace(to_replace=2, value='DEFENCE', inplace=True)\n",
    "check_df1.actual_label.replace(to_replace=3, value='DOMESTIC MARKETS', inplace=True)\n",
    "check_df1.actual_label.replace(to_replace=4, value='FOREX MARKETS', inplace=True)\n",
    "check_df1.actual_label.replace(to_replace=5, value='HEALTH', inplace=True)\n",
    "check_df1.actual_label.replace(to_replace=6, value='IRRELEVANT', inplace=True)\n",
    "check_df1.actual_label.replace(to_replace=7, value='MONEY MARKETS', inplace=True)\n",
    "check_df1.actual_label.replace(to_replace=8, value='SCIENCE AND TECHNOLOGY', inplace=True)\n",
    "check_df1.actual_label.replace(to_replace=9, value='SHARE LISTINGS', inplace=True)\n",
    "check_df1.actual_label.replace(to_replace=10, value='SPORTS', inplace=True)\n",
    "\n",
    "print(check_df1)"
   ]
  },
  {
   "cell_type": "code",
   "execution_count": 278,
   "metadata": {},
   "outputs": [
    {
     "data": {
      "text/plain": [
       "7"
      ]
     },
     "execution_count": 278,
     "metadata": {},
     "output_type": "execute_result"
    }
   ],
   "source": [
    "check_df1[check_df1.prediction == 'ARTS CULTURE ENTERTAINMENT'].shape[0]"
   ]
  },
  {
   "cell_type": "code",
   "execution_count": 279,
   "metadata": {},
   "outputs": [
    {
     "data": {
      "text/plain": [
       "26"
      ]
     },
     "execution_count": 279,
     "metadata": {},
     "output_type": "execute_result"
    }
   ],
   "source": [
    "check_df1[check_df1.prediction == 'BIOGRAPHIES PERSONALITIES PEOPLE'].shape[0]"
   ]
  },
  {
   "cell_type": "code",
   "execution_count": 280,
   "metadata": {},
   "outputs": [
    {
     "data": {
      "text/plain": [
       "28"
      ]
     },
     "execution_count": 280,
     "metadata": {},
     "output_type": "execute_result"
    }
   ],
   "source": [
    "check_df1[check_df1.prediction == 'DEFENCE'].shape[0]"
   ]
  },
  {
   "cell_type": "code",
   "execution_count": 281,
   "metadata": {},
   "outputs": [
    {
     "data": {
      "text/plain": [
       "1"
      ]
     },
     "execution_count": 281,
     "metadata": {},
     "output_type": "execute_result"
    }
   ],
   "source": [
    "check_df1[check_df1.prediction == 'DOMESTIC MARKETS'].shape[0]"
   ]
  },
  {
   "cell_type": "code",
   "execution_count": 282,
   "metadata": {},
   "outputs": [
    {
     "data": {
      "text/plain": [
       "154"
      ]
     },
     "execution_count": 282,
     "metadata": {},
     "output_type": "execute_result"
    }
   ],
   "source": [
    "check_df1[check_df1.prediction == 'FOREX MARKETS'].shape[0]"
   ]
  },
  {
   "cell_type": "code",
   "execution_count": 283,
   "metadata": {},
   "outputs": [
    {
     "data": {
      "text/plain": [
       "13"
      ]
     },
     "execution_count": 283,
     "metadata": {},
     "output_type": "execute_result"
    }
   ],
   "source": [
    "check_df1[check_df1.prediction == 'HEALTH'].shape[0]"
   ]
  },
  {
   "cell_type": "code",
   "execution_count": 284,
   "metadata": {},
   "outputs": [
    {
     "data": {
      "text/plain": [
       "0"
      ]
     },
     "execution_count": 284,
     "metadata": {},
     "output_type": "execute_result"
    }
   ],
   "source": [
    "check_df1[check_df1.prediction == 'IRRELEVANT'].shape[0]"
   ]
  },
  {
   "cell_type": "code",
   "execution_count": 285,
   "metadata": {},
   "outputs": [
    {
     "data": {
      "text/plain": [
       "556"
      ]
     },
     "execution_count": 285,
     "metadata": {},
     "output_type": "execute_result"
    }
   ],
   "source": [
    "check_df1[check_df1.prediction == 'MONEY MARKETS'].shape[0]"
   ]
  },
  {
   "cell_type": "code",
   "execution_count": 286,
   "metadata": {},
   "outputs": [
    {
     "data": {
      "text/plain": [
       "6"
      ]
     },
     "execution_count": 286,
     "metadata": {},
     "output_type": "execute_result"
    }
   ],
   "source": [
    "check_df1[check_df1.prediction == 'SCIENCE AND TECHNOLOGY'].shape[0]"
   ]
  },
  {
   "cell_type": "code",
   "execution_count": 287,
   "metadata": {},
   "outputs": [
    {
     "data": {
      "text/plain": [
       "6"
      ]
     },
     "execution_count": 287,
     "metadata": {},
     "output_type": "execute_result"
    }
   ],
   "source": [
    "check_df1[check_df1.prediction == 'SHARE LISTINGS'].shape[0]"
   ]
  },
  {
   "cell_type": "code",
   "execution_count": 288,
   "metadata": {},
   "outputs": [
    {
     "data": {
      "text/plain": [
       "311"
      ]
     },
     "execution_count": 288,
     "metadata": {},
     "output_type": "execute_result"
    }
   ],
   "source": [
    "check_df1[check_df1.prediction == 'SPORTS'].shape[0]"
   ]
  },
  {
   "cell_type": "code",
   "execution_count": null,
   "metadata": {},
   "outputs": [],
   "source": []
  }
 ],
 "metadata": {
  "kernelspec": {
   "display_name": "Python 3",
   "language": "python",
   "name": "python3"
  },
  "language_info": {
   "codemirror_mode": {
    "name": "ipython",
    "version": 3
   },
   "file_extension": ".py",
   "mimetype": "text/x-python",
   "name": "python",
   "nbconvert_exporter": "python",
   "pygments_lexer": "ipython3",
   "version": "3.7.4"
  }
 },
 "nbformat": 4,
 "nbformat_minor": 2
}
